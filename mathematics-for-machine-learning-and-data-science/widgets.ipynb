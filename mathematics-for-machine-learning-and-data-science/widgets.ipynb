{
 "cells": [
  {
   "cell_type": "code",
   "execution_count": 2,
   "id": "c32c454c-b640-4a22-9392-84359d8e75eb",
   "metadata": {},
   "outputs": [
    {
     "ename": "AttributeError",
     "evalue": "module 'quiz' has no attribute 'mcq'",
     "output_type": "error",
     "traceback": [
      "\u001b[31m---------------------------------------------------------------------------\u001b[39m",
      "\u001b[31mAttributeError\u001b[39m                            Traceback (most recent call last)",
      "\u001b[36mCell\u001b[39m\u001b[36m \u001b[39m\u001b[32mIn[2]\u001b[39m\u001b[32m, line 4\u001b[39m\n\u001b[32m      2\u001b[39m \u001b[38;5;28;01mimport\u001b[39;00m\u001b[38;5;250m \u001b[39m\u001b[34;01mquiz\u001b[39;00m\n\u001b[32m      3\u001b[39m \u001b[38;5;28;01mimport\u001b[39;00m\u001b[38;5;250m \u001b[39m\u001b[34;01mipywidgets\u001b[39;00m\u001b[38;5;250m \u001b[39m\u001b[38;5;28;01mas\u001b[39;00m\u001b[38;5;250m \u001b[39m\u001b[34;01mwidgets\u001b[39;00m\n\u001b[32m----> \u001b[39m\u001b[32m4\u001b[39m q1 = \u001b[43mquiz\u001b[49m\u001b[43m.\u001b[49m\u001b[43mmcq\u001b[49m(quiz.question1, quiz.solution1)\n",
      "\u001b[31mAttributeError\u001b[39m: module 'quiz' has no attribute 'mcq'"
     ]
    }
   ],
   "source": [
    "# Run this cell to select your answer\n",
    "import quiz\n",
    "import ipywidgets as widgets\n",
    "q1 = quiz.mcq(quiz.question1, quiz.solution1)"
   ]
  },
  {
   "cell_type": "code",
   "execution_count": null,
   "id": "3fe6c34b-b7f8-468c-8c17-431b4ae3ba74",
   "metadata": {},
   "outputs": [],
   "source": []
  }
 ],
 "metadata": {
  "kernelspec": {
   "display_name": "Python 3 (ipykernel)",
   "language": "python",
   "name": "python3"
  },
  "language_info": {
   "codemirror_mode": {
    "name": "ipython",
    "version": 3
   },
   "file_extension": ".py",
   "mimetype": "text/x-python",
   "name": "python",
   "nbconvert_exporter": "python",
   "pygments_lexer": "ipython3",
   "version": "3.12.3"
  }
 },
 "nbformat": 4,
 "nbformat_minor": 5
}
